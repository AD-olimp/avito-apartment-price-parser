{
 "cells": [
  {
   "cell_type": "code",
   "execution_count": 31,
   "id": "a921bcb2-c9f9-4d33-a903-c48e2efe7af0",
   "metadata": {},
   "outputs": [],
   "source": [
    "import pandas as pd\n",
    "import plotly as pl\n",
    "import matplotlib.pyplot as plt"
   ]
  },
  {
   "cell_type": "code",
   "execution_count": 32,
   "id": "fd631b75-11d8-4ae6-9ab1-34e6cf267c2d",
   "metadata": {},
   "outputs": [],
   "source": [
    "df = pd.read_csv('./data/Cian data ~2700 flats long rent.csv', index_col='Unnamed: 0')\n",
    "df['adress'] = df.location + ', ' + df.street + ', ' + df.house_number"
   ]
  },
  {
   "cell_type": "code",
   "execution_count": 35,
   "id": "1082cb47-7698-4bf8-a4d6-2a6e27207144",
   "metadata": {},
   "outputs": [
    {
     "data": {
      "text/html": [
       "<div>\n",
       "<style scoped>\n",
       "    .dataframe tbody tr th:only-of-type {\n",
       "        vertical-align: middle;\n",
       "    }\n",
       "\n",
       "    .dataframe tbody tr th {\n",
       "        vertical-align: top;\n",
       "    }\n",
       "\n",
       "    .dataframe thead th {\n",
       "        text-align: right;\n",
       "    }\n",
       "</style>\n",
       "<table border=\"1\" class=\"dataframe\">\n",
       "  <thead>\n",
       "    <tr style=\"text-align: right;\">\n",
       "      <th></th>\n",
       "      <th>author</th>\n",
       "      <th>author_type</th>\n",
       "      <th>url</th>\n",
       "      <th>location</th>\n",
       "      <th>deal_type</th>\n",
       "      <th>accommodation_type</th>\n",
       "      <th>floor</th>\n",
       "      <th>floors_count</th>\n",
       "      <th>rooms_count</th>\n",
       "      <th>total_meters</th>\n",
       "      <th>price_per_month</th>\n",
       "      <th>commissions</th>\n",
       "      <th>district</th>\n",
       "      <th>street</th>\n",
       "      <th>house_number</th>\n",
       "      <th>underground</th>\n",
       "      <th>residential_complex</th>\n",
       "      <th>underground_counts</th>\n",
       "      <th>adress</th>\n",
       "    </tr>\n",
       "  </thead>\n",
       "  <tbody>\n",
       "    <tr>\n",
       "      <th>0</th>\n",
       "      <td>Циан х ПИК-Аренда</td>\n",
       "      <td>real_estate_agent</td>\n",
       "      <td>https://www.cian.ru/rent/flat/301225189/</td>\n",
       "      <td>Москва</td>\n",
       "      <td>rent</td>\n",
       "      <td>flat</td>\n",
       "      <td>10</td>\n",
       "      <td>33</td>\n",
       "      <td>1</td>\n",
       "      <td>35.9</td>\n",
       "      <td>80900</td>\n",
       "      <td>0</td>\n",
       "      <td>Головинский</td>\n",
       "      <td>Кронштадтский бульвар</td>\n",
       "      <td>8к1</td>\n",
       "      <td>Водный стадион</td>\n",
       "      <td>NaN</td>\n",
       "      <td>18.0</td>\n",
       "      <td>Москва, Кронштадтский бульвар, 8к1</td>\n",
       "    </tr>\n",
       "    <tr>\n",
       "      <th>1</th>\n",
       "      <td>Циан х ПИК-Аренда</td>\n",
       "      <td>real_estate_agent</td>\n",
       "      <td>https://www.cian.ru/rent/flat/301681276/</td>\n",
       "      <td>Москва</td>\n",
       "      <td>rent</td>\n",
       "      <td>flat</td>\n",
       "      <td>5</td>\n",
       "      <td>19</td>\n",
       "      <td>1</td>\n",
       "      <td>37.4</td>\n",
       "      <td>83300</td>\n",
       "      <td>0</td>\n",
       "      <td>Можайский</td>\n",
       "      <td>Рябиновая</td>\n",
       "      <td>3к3</td>\n",
       "      <td>Рабочий посёлок</td>\n",
       "      <td>NaN</td>\n",
       "      <td>12.0</td>\n",
       "      <td>Москва, Рябиновая , 3к3</td>\n",
       "    </tr>\n",
       "    <tr>\n",
       "      <th>2</th>\n",
       "      <td>ЕГСН Аренда</td>\n",
       "      <td>real_estate_agent</td>\n",
       "      <td>https://www.cian.ru/rent/flat/301029990/</td>\n",
       "      <td>Москва</td>\n",
       "      <td>rent</td>\n",
       "      <td>flat</td>\n",
       "      <td>1</td>\n",
       "      <td>12</td>\n",
       "      <td>1</td>\n",
       "      <td>34.0</td>\n",
       "      <td>33000</td>\n",
       "      <td>0</td>\n",
       "      <td>Пресненский</td>\n",
       "      <td>Трехгорный Вал</td>\n",
       "      <td>1</td>\n",
       "      <td>Улица 1905 года</td>\n",
       "      <td>NaN</td>\n",
       "      <td>11.0</td>\n",
       "      <td>Москва,  Трехгорный Вал, 1</td>\n",
       "    </tr>\n",
       "  </tbody>\n",
       "</table>\n",
       "</div>"
      ],
      "text/plain": [
       "              author        author_type  \\\n",
       "0  Циан х ПИК-Аренда  real_estate_agent   \n",
       "1  Циан х ПИК-Аренда  real_estate_agent   \n",
       "2        ЕГСН Аренда  real_estate_agent   \n",
       "\n",
       "                                        url location deal_type  \\\n",
       "0  https://www.cian.ru/rent/flat/301225189/   Москва      rent   \n",
       "1  https://www.cian.ru/rent/flat/301681276/   Москва      rent   \n",
       "2  https://www.cian.ru/rent/flat/301029990/   Москва      rent   \n",
       "\n",
       "  accommodation_type  floor  floors_count  rooms_count  total_meters  \\\n",
       "0               flat     10            33            1          35.9   \n",
       "1               flat      5            19            1          37.4   \n",
       "2               flat      1            12            1          34.0   \n",
       "\n",
       "   price_per_month  commissions     district                 street  \\\n",
       "0            80900            0  Головинский  Кронштадтский бульвар   \n",
       "1            83300            0    Можайский             Рябиновая    \n",
       "2            33000            0  Пресненский         Трехгорный Вал   \n",
       "\n",
       "  house_number      underground residential_complex  underground_counts  \\\n",
       "0          8к1   Водный стадион                 NaN                18.0   \n",
       "1          3к3  Рабочий посёлок                 NaN                12.0   \n",
       "2            1  Улица 1905 года                 NaN                11.0   \n",
       "\n",
       "                               adress  \n",
       "0  Москва, Кронштадтский бульвар, 8к1  \n",
       "1             Москва, Рябиновая , 3к3  \n",
       "2          Москва,  Трехгорный Вал, 1  "
      ]
     },
     "execution_count": 35,
     "metadata": {},
     "output_type": "execute_result"
    }
   ],
   "source": [
    "df.head(3)"
   ]
  },
  {
   "cell_type": "markdown",
   "id": "0067d30a-72c3-4858-a0c5-635bb07e9dfa",
   "metadata": {},
   "source": [
    "# получим координаты всех точек"
   ]
  },
  {
   "cell_type": "code",
   "execution_count": 99,
   "id": "6403ea39-05b6-4430-bea8-d30af14d7f79",
   "metadata": {},
   "outputs": [
    {
     "data": {
      "text/plain": [
       "True"
      ]
     },
     "execution_count": 99,
     "metadata": {},
     "output_type": "execute_result"
    }
   ],
   "source": [
    "import os\n",
    "from dotenv import load_dotenv\n",
    "from typing import AsyncGenerator\n",
    "import asyncio\n",
    "import aiohttp\n",
    "\n",
    "load_dotenv('.env')"
   ]
  },
  {
   "cell_type": "code",
   "execution_count": 91,
   "id": "bb8efec5-5a39-45a4-8a94-9ab1eb41ecd5",
   "metadata": {},
   "outputs": [],
   "source": [
    "API_KEY = os.getenv('API_KEY')"
   ]
  },
  {
   "cell_type": "code",
   "execution_count": 106,
   "id": "875bf440-08c7-411b-8ce4-583a73f2b975",
   "metadata": {},
   "outputs": [],
   "source": [
    "BASE_URL = 'https://geocode.search.hereapi.com/v1/geocode'\n",
    "params = {\n",
    "    'q': 'Москва, Рябиновая , 3к3',\n",
    "    'limit': 4,\n",
    "    'apiKey': API_KEY\n",
    "}"
   ]
  },
  {
   "cell_type": "code",
   "execution_count": 108,
   "id": "4d9df6a0-f162-4d23-925c-e4ab665107a7",
   "metadata": {},
   "outputs": [
    {
     "data": {
      "text/plain": [
       "{'items': [{'title': 'Рябиновая улица 3 корп 3, Москва, Россия, 121471',\n",
       "   'id': 'here:af:streetsection:VWqgIJ7UVPOzw4ndeH9KjD:CggIBCDcxNL1AhABGggzIGtvcnAgMw',\n",
       "   'resultType': 'houseNumber',\n",
       "   'houseNumberType': 'PA',\n",
       "   'address': {'label': 'Рябиновая улица 3 корп 3, Москва, Россия, 121471',\n",
       "    'countryCode': 'RUS',\n",
       "    'countryName': 'Россия',\n",
       "    'state': 'Центральный федеральный округ',\n",
       "    'county': 'Москва',\n",
       "    'city': 'Москва',\n",
       "    'district': 'МО Можайский',\n",
       "    'street': 'Рябиновая улица',\n",
       "    'postalCode': '121471',\n",
       "    'houseNumber': '3 корп 3'},\n",
       "   'position': {'lat': 55.71792, 'lng': 37.4246},\n",
       "   'access': [{'lat': 55.71793, 'lng': 37.42435}],\n",
       "   'mapView': {'west': 37.423,\n",
       "    'south': 55.71702,\n",
       "    'east': 37.4262,\n",
       "    'north': 55.71882},\n",
       "   'scoring': {'queryScore': 1.0,\n",
       "    'fieldScore': {'city': 1.0, 'streets': [0.9], 'houseNumber': 1.0}}}]}"
      ]
     },
     "execution_count": 108,
     "metadata": {},
     "output_type": "execute_result"
    }
   ],
   "source": [
    "requests.get(BASE_URL, params=params).json()"
   ]
  },
  {
   "cell_type": "code",
   "execution_count": 103,
   "id": "f8e9d9b1-494e-4000-af1b-62824b08464a",
   "metadata": {},
   "outputs": [],
   "source": [
    "adress_list = list(df.adress)\n",
    "\n",
    "async def asyncAdressGenerator() -> AsyncGenerator[str, None]:\n",
    "    for adress in adress_list:\n",
    "        await asyncio.sleep(1)\n",
    "        yield adress"
   ]
  },
  {
   "cell_type": "code",
   "execution_count": 104,
   "id": "b3af4e35-690a-4b5a-8375-683f511fd7c1",
   "metadata": {},
   "outputs": [],
   "source": [
    "async def main(): \n",
    "    async for address in asyncAdressGenerator():\n",
    "        print(\"Processing address:\", address)\n"
   ]
  },
  {
   "cell_type": "code",
   "execution_count": 105,
   "id": "c4f40cd2-b8dd-4188-bf2c-25d5645a2325",
   "metadata": {},
   "outputs": [
    {
     "ename": "RuntimeError",
     "evalue": "asyncio.run() cannot be called from a running event loop",
     "output_type": "error",
     "traceback": [
      "\u001b[0;31m---------------------------------------------------------------------------\u001b[0m",
      "\u001b[0;31mRuntimeError\u001b[0m                              Traceback (most recent call last)",
      "Cell \u001b[0;32mIn[105], line 1\u001b[0m\n\u001b[0;32m----> 1\u001b[0m \u001b[43masyncio\u001b[49m\u001b[38;5;241;43m.\u001b[39;49m\u001b[43mrun\u001b[49m\u001b[43m(\u001b[49m\u001b[43mmain\u001b[49m\u001b[43m(\u001b[49m\u001b[43m)\u001b[49m\u001b[43m)\u001b[49m\n",
      "File \u001b[0;32m/usr/lib/python3.11/asyncio/runners.py:186\u001b[0m, in \u001b[0;36mrun\u001b[0;34m(main, debug)\u001b[0m\n\u001b[1;32m    161\u001b[0m \u001b[38;5;250m\u001b[39m\u001b[38;5;124;03m\"\"\"Execute the coroutine and return the result.\u001b[39;00m\n\u001b[1;32m    162\u001b[0m \n\u001b[1;32m    163\u001b[0m \u001b[38;5;124;03mThis function runs the passed coroutine, taking care of\u001b[39;00m\n\u001b[0;32m   (...)\u001b[0m\n\u001b[1;32m    182\u001b[0m \u001b[38;5;124;03m    asyncio.run(main())\u001b[39;00m\n\u001b[1;32m    183\u001b[0m \u001b[38;5;124;03m\"\"\"\u001b[39;00m\n\u001b[1;32m    184\u001b[0m \u001b[38;5;28;01mif\u001b[39;00m events\u001b[38;5;241m.\u001b[39m_get_running_loop() \u001b[38;5;129;01mis\u001b[39;00m \u001b[38;5;129;01mnot\u001b[39;00m \u001b[38;5;28;01mNone\u001b[39;00m:\n\u001b[1;32m    185\u001b[0m     \u001b[38;5;66;03m# fail fast with short traceback\u001b[39;00m\n\u001b[0;32m--> 186\u001b[0m     \u001b[38;5;28;01mraise\u001b[39;00m \u001b[38;5;167;01mRuntimeError\u001b[39;00m(\n\u001b[1;32m    187\u001b[0m         \u001b[38;5;124m\"\u001b[39m\u001b[38;5;124masyncio.run() cannot be called from a running event loop\u001b[39m\u001b[38;5;124m\"\u001b[39m)\n\u001b[1;32m    189\u001b[0m \u001b[38;5;28;01mwith\u001b[39;00m Runner(debug\u001b[38;5;241m=\u001b[39mdebug) \u001b[38;5;28;01mas\u001b[39;00m runner:\n\u001b[1;32m    190\u001b[0m     \u001b[38;5;28;01mreturn\u001b[39;00m runner\u001b[38;5;241m.\u001b[39mrun(main)\n",
      "\u001b[0;31mRuntimeError\u001b[0m: asyncio.run() cannot be called from a running event loop"
     ]
    }
   ],
   "source": [
    "asyncio.run(main())"
   ]
  },
  {
   "cell_type": "code",
   "execution_count": 75,
   "id": "c89f65ca-b04e-4f23-b3f2-bc7ee9f05930",
   "metadata": {},
   "outputs": [
    {
     "data": {
      "text/plain": [
       "{'items': [{'title': 'Рябиновая улица 3 корп 3, Москва, Россия, 121471',\n",
       "   'id': 'here:af:streetsection:VWqgIJ7UVPOzw4ndeH9KjD:CggIBCDcxNL1AhABGggzIGtvcnAgMw',\n",
       "   'resultType': 'houseNumber',\n",
       "   'houseNumberType': 'PA',\n",
       "   'address': {'label': 'Рябиновая улица 3 корп 3, Москва, Россия, 121471',\n",
       "    'countryCode': 'RUS',\n",
       "    'countryName': 'Россия',\n",
       "    'state': 'Центральный федеральный округ',\n",
       "    'county': 'Москва',\n",
       "    'city': 'Москва',\n",
       "    'district': 'МО Можайский',\n",
       "    'street': 'Рябиновая улица',\n",
       "    'postalCode': '121471',\n",
       "    'houseNumber': '3 корп 3'},\n",
       "   'position': {'lat': 55.71792, 'lng': 37.4246},\n",
       "   'access': [{'lat': 55.71793, 'lng': 37.42435}],\n",
       "   'mapView': {'west': 37.423,\n",
       "    'south': 55.71702,\n",
       "    'east': 37.4262,\n",
       "    'north': 55.71882},\n",
       "   'scoring': {'queryScore': 1.0,\n",
       "    'fieldScore': {'city': 1.0, 'streets': [0.9], 'houseNumber': 1.0}}}]}"
      ]
     },
     "execution_count": 75,
     "metadata": {},
     "output_type": "execute_result"
    }
   ],
   "source": [
    "response.json()"
   ]
  }
 ],
 "metadata": {
  "kernelspec": {
   "display_name": "Python 3 (ipykernel)",
   "language": "python",
   "name": "python3"
  },
  "language_info": {
   "codemirror_mode": {
    "name": "ipython",
    "version": 3
   },
   "file_extension": ".py",
   "mimetype": "text/x-python",
   "name": "python",
   "nbconvert_exporter": "python",
   "pygments_lexer": "ipython3",
   "version": "3.11.8"
  }
 },
 "nbformat": 4,
 "nbformat_minor": 5
}
